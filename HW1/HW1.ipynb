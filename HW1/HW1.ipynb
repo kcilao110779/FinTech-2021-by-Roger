{
 "cells": [
  {
   "cell_type": "code",
   "execution_count": 1,
   "metadata": {},
   "outputs": [],
   "source": [
    "# -*- coding: utf-8 -*-\n",
    "import pandas as pd\n",
    "import numpy as np\n",
    "import matplotlib.pyplot as plt\n",
    "from sklearn import preprocessing\n",
    "from sklearn.preprocessing import StandardScaler\n",
    "from sklearn.model_selection import train_test_split\n",
    "from sklearn.neighbors import KNeighborsClassifier\n",
    "from sklearn import metrics\n",
    "from sklearn import svm \n"
   ]
  },
  {
   "cell_type": "code",
   "execution_count": 2,
   "metadata": {},
   "outputs": [],
   "source": [
    "# if __name__ == '__main__':\n",
    "df = pd.read_csv(\"./train.csv\").iloc[:,1:]\n",
    "df = df.dropna()\n",
    "\n",
    "# one-hot encoding for x_data\n",
    "x_train = pd.get_dummies(df.iloc[:,:-1])\n",
    "\n",
    "# normalization for x_data\n",
    "scale = StandardScaler()\n",
    "x_train = pd.DataFrame(scale.fit_transform(x_train),columns=x_train.keys())\n",
    "\n",
    "# y = label column\n",
    "y_train = df.iloc[:,-1]\n",
    "\n",
    "# training and validate data spliting\n",
    "# x_train, x_val, y_train, y_val = train_test_split(x_train, y_train, test_size=0.2, random_state= 42)"
   ]
  },
  {
   "cell_type": "code",
   "execution_count": 6,
   "metadata": {},
   "outputs": [],
   "source": [
    "\n",
    "acc = []\n",
    "\n",
    "# Applying KNNC. It will take some time\n",
    "# from sklearn import metrics\n",
    "# for i in range(1,40):\n",
    "\n",
    "#     print(f\"Doing KNNC in round {i}\")\n",
    "#     # TODO\n",
    "#     # Parameters may be adjusted following the document\n",
    "#     # https://scikit-learn.org/stable/modules/generated/sklearn.neighbors.KNeighborsClassifier.html\n",
    "#     # Since we use weighted categories accuracy, maybe other metrics works better\n",
    "#     neigh = KNeighborsClassifier(weights='distance', n_neighbors=i).fit(x_train,y_train)\n",
    "#     yhat = neigh.predict(x_val)\n",
    "#     accuracy = metrics.recall_score(y_val, yhat)\n",
    "#     print (accuracy)\n",
    "#     acc.append(accuracy)\n",
    "\n",
    "# best_neighbors = np.argmax(acc)+1\n",
    "# print(best_neighbors, max(acc))\n",
    "\n",
    "\n",
    "\n",
    "df_test = pd.read_csv('./test.csv').iloc[:,1:]\n",
    "df_test = df_test.fillna(df_test.mean())\n",
    "x_test = pd.get_dummies(df_test)\n",
    "x_test = pd.DataFrame(scale.fit_transform(x_test),columns=x_test.keys())\n",
    "\n",
    "# # Start Predict\n",
    "clf = svm.SVC(C=10, kernel='rbf',gamma='auto')\n",
    "clf.fit(x_train, y_train)\n",
    "pred = clf.predict(x_test)\n",
    "\n",
    "# knn = KNeighborsClassifier(weights='distance', n_neighbors=1 ).fit(x_train,y_train)\n",
    "# pred = knn.predict(x_test)\n",
    "\n",
    "# output the answer\n",
    "fp = open(\"sol.csv\", \"w\")\n",
    "fp.write(\"index,label\\n\")\n",
    "for index, i in enumerate(pred):\n",
    "    fp.write(f\"{index+20000},{int(i)}\\n\")\n",
    "fp.close()"
   ]
  },
  {
   "cell_type": "code",
   "execution_count": null,
   "metadata": {},
   "outputs": [],
   "source": [
    "y_train"
   ]
  },
  {
   "cell_type": "code",
   "execution_count": null,
   "metadata": {},
   "outputs": [],
   "source": []
  }
 ],
 "metadata": {
  "interpreter": {
   "hash": "b3ba2566441a7c06988d0923437866b63cedc61552a5af99d1f4fb67d367b25f"
  },
  "kernelspec": {
   "display_name": "Python 3.8.3 64-bit ('base': conda)",
   "name": "python3"
  },
  "language_info": {
   "codemirror_mode": {
    "name": "ipython",
    "version": 3
   },
   "file_extension": ".py",
   "mimetype": "text/x-python",
   "name": "python",
   "nbconvert_exporter": "python",
   "pygments_lexer": "ipython3",
   "version": "3.8.3"
  },
  "orig_nbformat": 4
 },
 "nbformat": 4,
 "nbformat_minor": 2
}
